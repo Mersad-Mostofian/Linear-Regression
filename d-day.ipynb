{
 "cells": [
  {
   "cell_type": "markdown",
   "metadata": {},
   "source": [
    "<h3>Mersad Mostofian | 401243124</h3>"
   ]
  },
  {
   "cell_type": "markdown",
   "metadata": {},
   "source": [
    "<a href=\"https://quera.org/course/assignments/71713/problems\">ترکیب هواشناسی و جنگ جهانی</a>"
   ]
  },
  {
   "cell_type": "code",
   "execution_count": 1,
   "metadata": {},
   "outputs": [],
   "source": [
    "import numpy as np\n",
    "import pandas as pd\n",
    "import matplotlib.pyplot as plt"
   ]
  },
  {
   "cell_type": "markdown",
   "metadata": {},
   "source": [
    "<h1>خواندن فایل ها</h1>\n",
    "<h4>فایل های دیتا رو از <a href=\"https://drive.google.com/file/d/1mmiCWaRRx7MiC-TfG1A3OY2H3g5atPcw/view?usp=sharing\">این لینک</a>   دانلود می کنیم</h4>"
   ]
  },
  {
   "cell_type": "code",
   "execution_count": 2,
   "metadata": {},
   "outputs": [
    {
     "name": "stderr",
     "output_type": "stream",
     "text": [
      "C:\\Users\\Mersad\\AppData\\Local\\Temp\\ipykernel_9392\\1248487472.py:1: DtypeWarning: Columns (7,8,18,25) have mixed types. Specify dtype option on import or set low_memory=False.\n",
      "  weatherSummery = pd.read_csv(\"Summary of Weather.csv\")\n"
     ]
    }
   ],
   "source": [
    "weatherSummery = pd.read_csv(\"Summary of Weather.csv\")\n",
    "stationLoc = pd.read_csv(\"Weather Station Locations.csv\")"
   ]
  },
  {
   "cell_type": "markdown",
   "metadata": {},
   "source": [
    "<p>از هر دیتاست 10 دیتا اول رو میخوانیم تا با ستون ها و نوع متغییر ها آشنا شویم</p>"
   ]
  },
  {
   "cell_type": "code",
   "execution_count": 3,
   "metadata": {},
   "outputs": [
    {
     "data": {
      "text/html": [
       "<div>\n",
       "<style scoped>\n",
       "    .dataframe tbody tr th:only-of-type {\n",
       "        vertical-align: middle;\n",
       "    }\n",
       "\n",
       "    .dataframe tbody tr th {\n",
       "        vertical-align: top;\n",
       "    }\n",
       "\n",
       "    .dataframe thead th {\n",
       "        text-align: right;\n",
       "    }\n",
       "</style>\n",
       "<table border=\"1\" class=\"dataframe\">\n",
       "  <thead>\n",
       "    <tr style=\"text-align: right;\">\n",
       "      <th></th>\n",
       "      <th>STA</th>\n",
       "      <th>Date</th>\n",
       "      <th>Precip</th>\n",
       "      <th>WindGustSpd</th>\n",
       "      <th>MaxTemp</th>\n",
       "      <th>MinTemp</th>\n",
       "      <th>MeanTemp</th>\n",
       "      <th>Snowfall</th>\n",
       "      <th>PoorWeather</th>\n",
       "      <th>YR</th>\n",
       "      <th>...</th>\n",
       "      <th>FB</th>\n",
       "      <th>FTI</th>\n",
       "      <th>ITH</th>\n",
       "      <th>PGT</th>\n",
       "      <th>TSHDSBRSGF</th>\n",
       "      <th>SD3</th>\n",
       "      <th>RHX</th>\n",
       "      <th>RHN</th>\n",
       "      <th>RVG</th>\n",
       "      <th>WTE</th>\n",
       "    </tr>\n",
       "  </thead>\n",
       "  <tbody>\n",
       "    <tr>\n",
       "      <th>0</th>\n",
       "      <td>10001</td>\n",
       "      <td>1942-7-1</td>\n",
       "      <td>1.016</td>\n",
       "      <td>NaN</td>\n",
       "      <td>25.555556</td>\n",
       "      <td>22.222222</td>\n",
       "      <td>23.888889</td>\n",
       "      <td>0.0</td>\n",
       "      <td>NaN</td>\n",
       "      <td>42</td>\n",
       "      <td>...</td>\n",
       "      <td>NaN</td>\n",
       "      <td>NaN</td>\n",
       "      <td>NaN</td>\n",
       "      <td>NaN</td>\n",
       "      <td>NaN</td>\n",
       "      <td>NaN</td>\n",
       "      <td>NaN</td>\n",
       "      <td>NaN</td>\n",
       "      <td>NaN</td>\n",
       "      <td>NaN</td>\n",
       "    </tr>\n",
       "    <tr>\n",
       "      <th>1</th>\n",
       "      <td>10001</td>\n",
       "      <td>1942-7-2</td>\n",
       "      <td>0</td>\n",
       "      <td>NaN</td>\n",
       "      <td>28.888889</td>\n",
       "      <td>21.666667</td>\n",
       "      <td>25.555556</td>\n",
       "      <td>0.0</td>\n",
       "      <td>NaN</td>\n",
       "      <td>42</td>\n",
       "      <td>...</td>\n",
       "      <td>NaN</td>\n",
       "      <td>NaN</td>\n",
       "      <td>NaN</td>\n",
       "      <td>NaN</td>\n",
       "      <td>NaN</td>\n",
       "      <td>NaN</td>\n",
       "      <td>NaN</td>\n",
       "      <td>NaN</td>\n",
       "      <td>NaN</td>\n",
       "      <td>NaN</td>\n",
       "    </tr>\n",
       "    <tr>\n",
       "      <th>2</th>\n",
       "      <td>10001</td>\n",
       "      <td>1942-7-3</td>\n",
       "      <td>2.54</td>\n",
       "      <td>NaN</td>\n",
       "      <td>26.111111</td>\n",
       "      <td>22.222222</td>\n",
       "      <td>24.444444</td>\n",
       "      <td>0.0</td>\n",
       "      <td>NaN</td>\n",
       "      <td>42</td>\n",
       "      <td>...</td>\n",
       "      <td>NaN</td>\n",
       "      <td>NaN</td>\n",
       "      <td>NaN</td>\n",
       "      <td>NaN</td>\n",
       "      <td>NaN</td>\n",
       "      <td>NaN</td>\n",
       "      <td>NaN</td>\n",
       "      <td>NaN</td>\n",
       "      <td>NaN</td>\n",
       "      <td>NaN</td>\n",
       "    </tr>\n",
       "    <tr>\n",
       "      <th>3</th>\n",
       "      <td>10001</td>\n",
       "      <td>1942-7-4</td>\n",
       "      <td>2.54</td>\n",
       "      <td>NaN</td>\n",
       "      <td>26.666667</td>\n",
       "      <td>22.222222</td>\n",
       "      <td>24.444444</td>\n",
       "      <td>0.0</td>\n",
       "      <td>NaN</td>\n",
       "      <td>42</td>\n",
       "      <td>...</td>\n",
       "      <td>NaN</td>\n",
       "      <td>NaN</td>\n",
       "      <td>NaN</td>\n",
       "      <td>NaN</td>\n",
       "      <td>NaN</td>\n",
       "      <td>NaN</td>\n",
       "      <td>NaN</td>\n",
       "      <td>NaN</td>\n",
       "      <td>NaN</td>\n",
       "      <td>NaN</td>\n",
       "    </tr>\n",
       "    <tr>\n",
       "      <th>4</th>\n",
       "      <td>10001</td>\n",
       "      <td>1942-7-5</td>\n",
       "      <td>0</td>\n",
       "      <td>NaN</td>\n",
       "      <td>26.666667</td>\n",
       "      <td>21.666667</td>\n",
       "      <td>24.444444</td>\n",
       "      <td>0.0</td>\n",
       "      <td>NaN</td>\n",
       "      <td>42</td>\n",
       "      <td>...</td>\n",
       "      <td>NaN</td>\n",
       "      <td>NaN</td>\n",
       "      <td>NaN</td>\n",
       "      <td>NaN</td>\n",
       "      <td>NaN</td>\n",
       "      <td>NaN</td>\n",
       "      <td>NaN</td>\n",
       "      <td>NaN</td>\n",
       "      <td>NaN</td>\n",
       "      <td>NaN</td>\n",
       "    </tr>\n",
       "    <tr>\n",
       "      <th>5</th>\n",
       "      <td>10001</td>\n",
       "      <td>1942-7-6</td>\n",
       "      <td>0</td>\n",
       "      <td>NaN</td>\n",
       "      <td>26.666667</td>\n",
       "      <td>21.666667</td>\n",
       "      <td>24.444444</td>\n",
       "      <td>0.0</td>\n",
       "      <td>NaN</td>\n",
       "      <td>42</td>\n",
       "      <td>...</td>\n",
       "      <td>NaN</td>\n",
       "      <td>NaN</td>\n",
       "      <td>NaN</td>\n",
       "      <td>NaN</td>\n",
       "      <td>NaN</td>\n",
       "      <td>NaN</td>\n",
       "      <td>NaN</td>\n",
       "      <td>NaN</td>\n",
       "      <td>NaN</td>\n",
       "      <td>NaN</td>\n",
       "    </tr>\n",
       "    <tr>\n",
       "      <th>6</th>\n",
       "      <td>10001</td>\n",
       "      <td>1942-7-7</td>\n",
       "      <td>T</td>\n",
       "      <td>NaN</td>\n",
       "      <td>28.333333</td>\n",
       "      <td>22.777778</td>\n",
       "      <td>25.555556</td>\n",
       "      <td>0.0</td>\n",
       "      <td>NaN</td>\n",
       "      <td>42</td>\n",
       "      <td>...</td>\n",
       "      <td>NaN</td>\n",
       "      <td>NaN</td>\n",
       "      <td>NaN</td>\n",
       "      <td>NaN</td>\n",
       "      <td>NaN</td>\n",
       "      <td>NaN</td>\n",
       "      <td>NaN</td>\n",
       "      <td>NaN</td>\n",
       "      <td>NaN</td>\n",
       "      <td>NaN</td>\n",
       "    </tr>\n",
       "    <tr>\n",
       "      <th>7</th>\n",
       "      <td>10001</td>\n",
       "      <td>1942-7-8</td>\n",
       "      <td>3.556</td>\n",
       "      <td>NaN</td>\n",
       "      <td>26.666667</td>\n",
       "      <td>22.222222</td>\n",
       "      <td>24.444444</td>\n",
       "      <td>0.0</td>\n",
       "      <td>NaN</td>\n",
       "      <td>42</td>\n",
       "      <td>...</td>\n",
       "      <td>NaN</td>\n",
       "      <td>NaN</td>\n",
       "      <td>NaN</td>\n",
       "      <td>NaN</td>\n",
       "      <td>NaN</td>\n",
       "      <td>NaN</td>\n",
       "      <td>NaN</td>\n",
       "      <td>NaN</td>\n",
       "      <td>NaN</td>\n",
       "      <td>NaN</td>\n",
       "    </tr>\n",
       "    <tr>\n",
       "      <th>8</th>\n",
       "      <td>10001</td>\n",
       "      <td>1942-7-9</td>\n",
       "      <td>T</td>\n",
       "      <td>NaN</td>\n",
       "      <td>27.222222</td>\n",
       "      <td>22.777778</td>\n",
       "      <td>25.000000</td>\n",
       "      <td>0.0</td>\n",
       "      <td>NaN</td>\n",
       "      <td>42</td>\n",
       "      <td>...</td>\n",
       "      <td>NaN</td>\n",
       "      <td>NaN</td>\n",
       "      <td>NaN</td>\n",
       "      <td>NaN</td>\n",
       "      <td>NaN</td>\n",
       "      <td>NaN</td>\n",
       "      <td>NaN</td>\n",
       "      <td>NaN</td>\n",
       "      <td>NaN</td>\n",
       "      <td>NaN</td>\n",
       "    </tr>\n",
       "    <tr>\n",
       "      <th>9</th>\n",
       "      <td>10001</td>\n",
       "      <td>1942-7-10</td>\n",
       "      <td>3.556</td>\n",
       "      <td>NaN</td>\n",
       "      <td>25.555556</td>\n",
       "      <td>21.666667</td>\n",
       "      <td>23.333333</td>\n",
       "      <td>0.0</td>\n",
       "      <td>NaN</td>\n",
       "      <td>42</td>\n",
       "      <td>...</td>\n",
       "      <td>NaN</td>\n",
       "      <td>NaN</td>\n",
       "      <td>NaN</td>\n",
       "      <td>NaN</td>\n",
       "      <td>NaN</td>\n",
       "      <td>NaN</td>\n",
       "      <td>NaN</td>\n",
       "      <td>NaN</td>\n",
       "      <td>NaN</td>\n",
       "      <td>NaN</td>\n",
       "    </tr>\n",
       "  </tbody>\n",
       "</table>\n",
       "<p>10 rows × 31 columns</p>\n",
       "</div>"
      ],
      "text/plain": [
       "     STA       Date Precip  WindGustSpd    MaxTemp    MinTemp   MeanTemp  \\\n",
       "0  10001   1942-7-1  1.016          NaN  25.555556  22.222222  23.888889   \n",
       "1  10001   1942-7-2      0          NaN  28.888889  21.666667  25.555556   \n",
       "2  10001   1942-7-3   2.54          NaN  26.111111  22.222222  24.444444   \n",
       "3  10001   1942-7-4   2.54          NaN  26.666667  22.222222  24.444444   \n",
       "4  10001   1942-7-5      0          NaN  26.666667  21.666667  24.444444   \n",
       "5  10001   1942-7-6      0          NaN  26.666667  21.666667  24.444444   \n",
       "6  10001   1942-7-7      T          NaN  28.333333  22.777778  25.555556   \n",
       "7  10001   1942-7-8  3.556          NaN  26.666667  22.222222  24.444444   \n",
       "8  10001   1942-7-9      T          NaN  27.222222  22.777778  25.000000   \n",
       "9  10001  1942-7-10  3.556          NaN  25.555556  21.666667  23.333333   \n",
       "\n",
       "  Snowfall PoorWeather  YR  ...  FB  FTI ITH  PGT  TSHDSBRSGF  SD3  RHX  RHN  \\\n",
       "0      0.0         NaN  42  ... NaN  NaN NaN  NaN         NaN  NaN  NaN  NaN   \n",
       "1      0.0         NaN  42  ... NaN  NaN NaN  NaN         NaN  NaN  NaN  NaN   \n",
       "2      0.0         NaN  42  ... NaN  NaN NaN  NaN         NaN  NaN  NaN  NaN   \n",
       "3      0.0         NaN  42  ... NaN  NaN NaN  NaN         NaN  NaN  NaN  NaN   \n",
       "4      0.0         NaN  42  ... NaN  NaN NaN  NaN         NaN  NaN  NaN  NaN   \n",
       "5      0.0         NaN  42  ... NaN  NaN NaN  NaN         NaN  NaN  NaN  NaN   \n",
       "6      0.0         NaN  42  ... NaN  NaN NaN  NaN         NaN  NaN  NaN  NaN   \n",
       "7      0.0         NaN  42  ... NaN  NaN NaN  NaN         NaN  NaN  NaN  NaN   \n",
       "8      0.0         NaN  42  ... NaN  NaN NaN  NaN         NaN  NaN  NaN  NaN   \n",
       "9      0.0         NaN  42  ... NaN  NaN NaN  NaN         NaN  NaN  NaN  NaN   \n",
       "\n",
       "  RVG  WTE  \n",
       "0 NaN  NaN  \n",
       "1 NaN  NaN  \n",
       "2 NaN  NaN  \n",
       "3 NaN  NaN  \n",
       "4 NaN  NaN  \n",
       "5 NaN  NaN  \n",
       "6 NaN  NaN  \n",
       "7 NaN  NaN  \n",
       "8 NaN  NaN  \n",
       "9 NaN  NaN  \n",
       "\n",
       "[10 rows x 31 columns]"
      ]
     },
     "execution_count": 3,
     "metadata": {},
     "output_type": "execute_result"
    }
   ],
   "source": [
    "weatherSummery.head(10)"
   ]
  },
  {
   "cell_type": "code",
   "execution_count": 4,
   "metadata": {},
   "outputs": [
    {
     "data": {
      "text/html": [
       "<div>\n",
       "<style scoped>\n",
       "    .dataframe tbody tr th:only-of-type {\n",
       "        vertical-align: middle;\n",
       "    }\n",
       "\n",
       "    .dataframe tbody tr th {\n",
       "        vertical-align: top;\n",
       "    }\n",
       "\n",
       "    .dataframe thead th {\n",
       "        text-align: right;\n",
       "    }\n",
       "</style>\n",
       "<table border=\"1\" class=\"dataframe\">\n",
       "  <thead>\n",
       "    <tr style=\"text-align: right;\">\n",
       "      <th></th>\n",
       "      <th>WBAN</th>\n",
       "      <th>NAME</th>\n",
       "      <th>STATE/COUNTRY ID</th>\n",
       "      <th>LAT</th>\n",
       "      <th>LON</th>\n",
       "      <th>ELEV</th>\n",
       "      <th>Latitude</th>\n",
       "      <th>Longitude</th>\n",
       "    </tr>\n",
       "  </thead>\n",
       "  <tbody>\n",
       "    <tr>\n",
       "      <th>0</th>\n",
       "      <td>33013</td>\n",
       "      <td>AIN EL</td>\n",
       "      <td>AL</td>\n",
       "      <td>3623N</td>\n",
       "      <td>00637E</td>\n",
       "      <td>611</td>\n",
       "      <td>36.383333</td>\n",
       "      <td>6.650000</td>\n",
       "    </tr>\n",
       "    <tr>\n",
       "      <th>1</th>\n",
       "      <td>33031</td>\n",
       "      <td>LA SENIA</td>\n",
       "      <td>AL</td>\n",
       "      <td>3537N</td>\n",
       "      <td>00037E</td>\n",
       "      <td>88</td>\n",
       "      <td>35.616667</td>\n",
       "      <td>0.583333</td>\n",
       "    </tr>\n",
       "    <tr>\n",
       "      <th>2</th>\n",
       "      <td>33023</td>\n",
       "      <td>MAISON BLANCHE</td>\n",
       "      <td>AL</td>\n",
       "      <td>3643N</td>\n",
       "      <td>00314E</td>\n",
       "      <td>23</td>\n",
       "      <td>36.716667</td>\n",
       "      <td>3.216667</td>\n",
       "    </tr>\n",
       "    <tr>\n",
       "      <th>3</th>\n",
       "      <td>33044</td>\n",
       "      <td>TELERGMA</td>\n",
       "      <td>AL</td>\n",
       "      <td>3607N</td>\n",
       "      <td>00621E</td>\n",
       "      <td>754</td>\n",
       "      <td>36.116667</td>\n",
       "      <td>6.416667</td>\n",
       "    </tr>\n",
       "    <tr>\n",
       "      <th>4</th>\n",
       "      <td>12001</td>\n",
       "      <td>TINDOUF</td>\n",
       "      <td>AL</td>\n",
       "      <td>2741N</td>\n",
       "      <td>00809W</td>\n",
       "      <td>443</td>\n",
       "      <td>27.683333</td>\n",
       "      <td>-8.083333</td>\n",
       "    </tr>\n",
       "    <tr>\n",
       "      <th>5</th>\n",
       "      <td>11604</td>\n",
       "      <td>ST JOHNS/COOLIDGE FIELD</td>\n",
       "      <td>AT</td>\n",
       "      <td>1707N</td>\n",
       "      <td>06147W</td>\n",
       "      <td>10</td>\n",
       "      <td>17.116667</td>\n",
       "      <td>-61.733333</td>\n",
       "    </tr>\n",
       "    <tr>\n",
       "      <th>6</th>\n",
       "      <td>82502</td>\n",
       "      <td>AMBERLY</td>\n",
       "      <td>AU</td>\n",
       "      <td>2736S</td>\n",
       "      <td>15243E</td>\n",
       "      <td>27</td>\n",
       "      <td>-27.600000</td>\n",
       "      <td>152.816667</td>\n",
       "    </tr>\n",
       "    <tr>\n",
       "      <th>7</th>\n",
       "      <td>82501</td>\n",
       "      <td>ARCHER</td>\n",
       "      <td>AU</td>\n",
       "      <td>2735S</td>\n",
       "      <td>15301E</td>\n",
       "      <td>19</td>\n",
       "      <td>-27.583333</td>\n",
       "      <td>153.000000</td>\n",
       "    </tr>\n",
       "    <tr>\n",
       "      <th>8</th>\n",
       "      <td>82506</td>\n",
       "      <td>BRISBANE</td>\n",
       "      <td>AU</td>\n",
       "      <td>2726S</td>\n",
       "      <td>15305E</td>\n",
       "      <td>2</td>\n",
       "      <td>-27.433333</td>\n",
       "      <td>153.133333</td>\n",
       "    </tr>\n",
       "    <tr>\n",
       "      <th>9</th>\n",
       "      <td>82402</td>\n",
       "      <td>CHARLEVILLE</td>\n",
       "      <td>AU</td>\n",
       "      <td>2625S</td>\n",
       "      <td>14616E</td>\n",
       "      <td>300</td>\n",
       "      <td>-26.416667</td>\n",
       "      <td>146.216667</td>\n",
       "    </tr>\n",
       "  </tbody>\n",
       "</table>\n",
       "</div>"
      ],
      "text/plain": [
       "    WBAN                     NAME STATE/COUNTRY ID    LAT     LON  ELEV  \\\n",
       "0  33013                   AIN EL               AL  3623N  00637E   611   \n",
       "1  33031                 LA SENIA               AL  3537N  00037E    88   \n",
       "2  33023           MAISON BLANCHE               AL  3643N  00314E    23   \n",
       "3  33044                 TELERGMA               AL  3607N  00621E   754   \n",
       "4  12001                  TINDOUF               AL  2741N  00809W   443   \n",
       "5  11604  ST JOHNS/COOLIDGE FIELD               AT  1707N  06147W    10   \n",
       "6  82502                  AMBERLY               AU  2736S  15243E    27   \n",
       "7  82501                   ARCHER               AU  2735S  15301E    19   \n",
       "8  82506                 BRISBANE               AU  2726S  15305E     2   \n",
       "9  82402              CHARLEVILLE               AU  2625S  14616E   300   \n",
       "\n",
       "    Latitude   Longitude  \n",
       "0  36.383333    6.650000  \n",
       "1  35.616667    0.583333  \n",
       "2  36.716667    3.216667  \n",
       "3  36.116667    6.416667  \n",
       "4  27.683333   -8.083333  \n",
       "5  17.116667  -61.733333  \n",
       "6 -27.600000  152.816667  \n",
       "7 -27.583333  153.000000  \n",
       "8 -27.433333  153.133333  \n",
       "9 -26.416667  146.216667  "
      ]
     },
     "execution_count": 4,
     "metadata": {},
     "output_type": "execute_result"
    }
   ],
   "source": [
    "stationLoc.head(10)"
   ]
  },
  {
   "cell_type": "markdown",
   "metadata": {},
   "source": [
    "<h3>بررسی روابط ستون ها و میزان تاثیر آنها روی یکدیگر</h3>\n",
    "<h4>ستون های 2 تا 5 </h4>\n",
    "<h4>(Precip تا MinTemp) داده ها را در نظر میگیریم</h4>\n",
    "\n",
    "<h4>چون در ستون اول در بین داده ها  یک رشته وجود دارد آن را با مقدار کمی جایگزین میکنیم.\n",
    "</h4>"
   ]
  },
  {
   "cell_type": "code",
   "execution_count": 5,
   "metadata": {},
   "outputs": [
    {
     "data": {
      "text/html": [
       "<div>\n",
       "<style scoped>\n",
       "    .dataframe tbody tr th:only-of-type {\n",
       "        vertical-align: middle;\n",
       "    }\n",
       "\n",
       "    .dataframe tbody tr th {\n",
       "        vertical-align: top;\n",
       "    }\n",
       "\n",
       "    .dataframe thead th {\n",
       "        text-align: right;\n",
       "    }\n",
       "</style>\n",
       "<table border=\"1\" class=\"dataframe\">\n",
       "  <thead>\n",
       "    <tr style=\"text-align: right;\">\n",
       "      <th></th>\n",
       "      <th>Precip</th>\n",
       "      <th>WindGustSpd</th>\n",
       "      <th>MaxTemp</th>\n",
       "      <th>MinTemp</th>\n",
       "    </tr>\n",
       "  </thead>\n",
       "  <tbody>\n",
       "    <tr>\n",
       "      <th>0</th>\n",
       "      <td>1.016</td>\n",
       "      <td>NaN</td>\n",
       "      <td>25.555556</td>\n",
       "      <td>22.222222</td>\n",
       "    </tr>\n",
       "    <tr>\n",
       "      <th>1</th>\n",
       "      <td>0</td>\n",
       "      <td>NaN</td>\n",
       "      <td>28.888889</td>\n",
       "      <td>21.666667</td>\n",
       "    </tr>\n",
       "    <tr>\n",
       "      <th>2</th>\n",
       "      <td>2.54</td>\n",
       "      <td>NaN</td>\n",
       "      <td>26.111111</td>\n",
       "      <td>22.222222</td>\n",
       "    </tr>\n",
       "    <tr>\n",
       "      <th>3</th>\n",
       "      <td>2.54</td>\n",
       "      <td>NaN</td>\n",
       "      <td>26.666667</td>\n",
       "      <td>22.222222</td>\n",
       "    </tr>\n",
       "    <tr>\n",
       "      <th>4</th>\n",
       "      <td>0</td>\n",
       "      <td>NaN</td>\n",
       "      <td>26.666667</td>\n",
       "      <td>21.666667</td>\n",
       "    </tr>\n",
       "    <tr>\n",
       "      <th>5</th>\n",
       "      <td>0</td>\n",
       "      <td>NaN</td>\n",
       "      <td>26.666667</td>\n",
       "      <td>21.666667</td>\n",
       "    </tr>\n",
       "    <tr>\n",
       "      <th>6</th>\n",
       "      <td>0.25</td>\n",
       "      <td>NaN</td>\n",
       "      <td>28.333333</td>\n",
       "      <td>22.777778</td>\n",
       "    </tr>\n",
       "    <tr>\n",
       "      <th>7</th>\n",
       "      <td>3.556</td>\n",
       "      <td>NaN</td>\n",
       "      <td>26.666667</td>\n",
       "      <td>22.222222</td>\n",
       "    </tr>\n",
       "    <tr>\n",
       "      <th>8</th>\n",
       "      <td>0.25</td>\n",
       "      <td>NaN</td>\n",
       "      <td>27.222222</td>\n",
       "      <td>22.777778</td>\n",
       "    </tr>\n",
       "    <tr>\n",
       "      <th>9</th>\n",
       "      <td>3.556</td>\n",
       "      <td>NaN</td>\n",
       "      <td>25.555556</td>\n",
       "      <td>21.666667</td>\n",
       "    </tr>\n",
       "  </tbody>\n",
       "</table>\n",
       "</div>"
      ],
      "text/plain": [
       "  Precip  WindGustSpd    MaxTemp    MinTemp\n",
       "0  1.016          NaN  25.555556  22.222222\n",
       "1      0          NaN  28.888889  21.666667\n",
       "2   2.54          NaN  26.111111  22.222222\n",
       "3   2.54          NaN  26.666667  22.222222\n",
       "4      0          NaN  26.666667  21.666667\n",
       "5      0          NaN  26.666667  21.666667\n",
       "6   0.25          NaN  28.333333  22.777778\n",
       "7  3.556          NaN  26.666667  22.222222\n",
       "8   0.25          NaN  27.222222  22.777778\n",
       "9  3.556          NaN  25.555556  21.666667"
      ]
     },
     "execution_count": 5,
     "metadata": {},
     "output_type": "execute_result"
    }
   ],
   "source": [
    "four_data = weatherSummery.iloc[:,2:6]\n",
    "four_data['Precip'] = four_data['Precip'].replace('T',0.25)\n",
    "four_data.head(10)"
   ]
  },
  {
   "cell_type": "markdown",
   "metadata": {},
   "source": [
    "<h2>محاسبه ماتریس همبستگی (correlation matrix) </h2>\n",
    "\n",
    "<h4>قطر اصلی ماتریس زیر برامون مهم نیست مهم ارتباط بین ویژگی های غیر یکسان است هر جا عدد به 1 میل کنه همبستگی بیشتره و هر جا به -1 همبستگی کمتره</h4>"
   ]
  },
  {
   "cell_type": "code",
   "execution_count": 6,
   "metadata": {},
   "outputs": [
    {
     "data": {
      "text/html": [
       "<div>\n",
       "<style scoped>\n",
       "    .dataframe tbody tr th:only-of-type {\n",
       "        vertical-align: middle;\n",
       "    }\n",
       "\n",
       "    .dataframe tbody tr th {\n",
       "        vertical-align: top;\n",
       "    }\n",
       "\n",
       "    .dataframe thead th {\n",
       "        text-align: right;\n",
       "    }\n",
       "</style>\n",
       "<table border=\"1\" class=\"dataframe\">\n",
       "  <thead>\n",
       "    <tr style=\"text-align: right;\">\n",
       "      <th></th>\n",
       "      <th>Precip</th>\n",
       "      <th>WindGustSpd</th>\n",
       "      <th>MaxTemp</th>\n",
       "      <th>MinTemp</th>\n",
       "    </tr>\n",
       "  </thead>\n",
       "  <tbody>\n",
       "    <tr>\n",
       "      <th>Precip</th>\n",
       "      <td>1.000000</td>\n",
       "      <td>0.341275</td>\n",
       "      <td>0.003979</td>\n",
       "      <td>0.088569</td>\n",
       "    </tr>\n",
       "    <tr>\n",
       "      <th>WindGustSpd</th>\n",
       "      <td>0.341275</td>\n",
       "      <td>1.000000</td>\n",
       "      <td>-0.124238</td>\n",
       "      <td>0.311690</td>\n",
       "    </tr>\n",
       "    <tr>\n",
       "      <th>MaxTemp</th>\n",
       "      <td>0.003979</td>\n",
       "      <td>-0.124238</td>\n",
       "      <td>1.000000</td>\n",
       "      <td>0.878384</td>\n",
       "    </tr>\n",
       "    <tr>\n",
       "      <th>MinTemp</th>\n",
       "      <td>0.088569</td>\n",
       "      <td>0.311690</td>\n",
       "      <td>0.878384</td>\n",
       "      <td>1.000000</td>\n",
       "    </tr>\n",
       "  </tbody>\n",
       "</table>\n",
       "</div>"
      ],
      "text/plain": [
       "               Precip  WindGustSpd   MaxTemp   MinTemp\n",
       "Precip       1.000000     0.341275  0.003979  0.088569\n",
       "WindGustSpd  0.341275     1.000000 -0.124238  0.311690\n",
       "MaxTemp      0.003979    -0.124238  1.000000  0.878384\n",
       "MinTemp      0.088569     0.311690  0.878384  1.000000"
      ]
     },
     "execution_count": 6,
     "metadata": {},
     "output_type": "execute_result"
    }
   ],
   "source": [
    "df_corr = four_data.corr()\n",
    "df_corr"
   ]
  },
  {
   "cell_type": "markdown",
   "metadata": {},
   "source": [
    "<h3>heatmapرسم جدول</h3>\n",
    "<h4>پر رنگ بودن نشانه همبستگی بیشتر است</h4>"
   ]
  },
  {
   "cell_type": "code",
   "execution_count": 7,
   "metadata": {},
   "outputs": [
    {
     "data": {
      "text/plain": [
       "<matplotlib.image.AxesImage at 0x21656649130>"
      ]
     },
     "execution_count": 7,
     "metadata": {},
     "output_type": "execute_result"
    },
    {
     "data": {
      "image/png": "[encoded data removed]",
      "text/plain": [
       "<Figure size 640x480 with 1 Axes>"
      ]
     },
     "metadata": {},
     "output_type": "display_data"
    }
   ],
   "source": [
    "plt.imshow(df_corr,cmap='Greens')"
   ]
  },
  {
   "cell_type": "markdown",
   "metadata": {},
   "source": [
    "<h4>با توجه به 2 بلوک قبل MaxTemp و MinTemp بیشترین همبستگی رو در بین دیگر ویژگی ها نسبت به هم داشتند</h4>"
   ]
  },
  {
   "cell_type": "markdown",
   "metadata": {},
   "source": [
    "<h2>رسم این دو ویژگی</h2>\n",
    "<h3>با توجه به خروجی نمودار میبینیم تعدادی داده پرت وجود دارد در ادامه میبینیم چه تاثیری در یافتن خط فیت دارد.</h3>"
   ]
  },
  {
   "cell_type": "code",
   "execution_count": 8,
   "metadata": {},
   "outputs": [
    {
     "data": {
      "text/plain": [
       "<Axes: xlabel='MaxTemp', ylabel='MinTemp'>"
      ]
     },
     "execution_count": 8,
     "metadata": {},
     "output_type": "execute_result"
    },
    {
     "data": {
      "image/png": "[encoded data removed]",
      "text/plain": [
       "<Figure size 640x480 with 1 Axes>"
      ]
     },
     "metadata": {},
     "output_type": "display_data"
    }
   ],
   "source": [
    "weatherSummery.plot.scatter(x='MaxTemp',y='MinTemp')"
   ]
  },
  {
   "cell_type": "markdown",
   "metadata": {},
   "source": [
    "<h2>توابع مورد نیاز رگراسیون خطی</h2>"
   ]
  },
  {
   "cell_type": "code",
   "execution_count": 9,
   "metadata": {},
   "outputs": [],
   "source": [
    "def normalize(t):\n",
    "    return (t - np.min(t)) / (np.max(t) - np.min(t))"
   ]
  },
  {
   "cell_type": "code",
   "execution_count": 10,
   "metadata": {},
   "outputs": [],
   "source": [
    "def update(dataset,t,w,b,alpha):\n",
    "    n = len(dataset)\n",
    "    y = np.dot(w,dataset) + b\n",
    "    w_new = (alpha/n) * np.sum(np.dot((y-t),dataset))\n",
    "    b_new = (alpha/n) * np.sum(y-t)\n",
    "    w -= w_new\n",
    "    b -= b_new\n",
    "    return w,b\n",
    "    \n",
    "    "
   ]
  },
  {
   "cell_type": "code",
   "execution_count": 11,
   "metadata": {},
   "outputs": [],
   "source": [
    "def cal_cost(dataset,t,w,b):\n",
    "    return (1/(2*len(dataset))) * np.sum(np.square((np.dot(w,dataset)+b)-t))\n"
   ]
  },
  {
   "cell_type": "code",
   "execution_count": 12,
   "metadata": {},
   "outputs": [],
   "source": [
    "def find_line(dataset,t,w,b,alpha,iter):\n",
    "    for i in range(iter):\n",
    "        w,b = update(dataset,t,w,b,alpha)\n",
    "        if i % 1000 == 0:\n",
    "            print(f\"iter: {i} , cost: {cal_cost(dataset,t,w,b)}\")\n",
    "    return w,b"
   ]
  },
  {
   "cell_type": "markdown",
   "metadata": {},
   "source": [
    "<h3>\n",
    "iter = 10000\n",
    "پیدا کردن خط فیت با\n",
    "</h3>"
   ]
  },
  {
   "cell_type": "code",
   "execution_count": 13,
   "metadata": {},
   "outputs": [
    {
     "name": "stdout",
     "output_type": "stream",
     "text": [
      "iter: 0 , cost: 0.022120887974026275\n",
      "iter: 1000 , cost: 0.009682720385537791\n",
      "iter: 2000 , cost: 0.008279661023596596\n",
      "iter: 3000 , cost: 0.007117119922314493\n",
      "iter: 4000 , cost: 0.006153866442931881\n",
      "iter: 5000 , cost: 0.005355737873955334\n",
      "iter: 6000 , cost: 0.004694427817722942\n",
      "iter: 7000 , cost: 0.004146482276774724\n",
      "iter: 8000 , cost: 0.0036924678352651184\n",
      "iter: 9000 , cost: 0.0033162824341711173\n"
     ]
    }
   ],
   "source": [
    "w,b = 0,0\n",
    "alpha = 0.001\n",
    "iter = 10000\n",
    "x = weatherSummery[\"MaxTemp\"]\n",
    "t = normalize(weatherSummery[\"MinTemp\"])\n",
    "w,b = find_line(x,t,w,b,alpha,iter)"
   ]
  },
  {
   "cell_type": "code",
   "execution_count": 14,
   "metadata": {},
   "outputs": [
    {
     "data": {
      "image/png": "[encoded data removed]",
      "text/plain": [
       "<Figure size 640x480 with 1 Axes>"
      ]
     },
     "metadata": {},
     "output_type": "display_data"
    }
   ],
   "source": [
    "plt.scatter(x,t)\n",
    "y = np.dot(w,x) + b\n",
    "plt.plot(x,y,'r')\n",
    "plt.show()"
   ]
  },
  {
   "cell_type": "markdown",
   "metadata": {},
   "source": [
    "<h3>\n",
    "iter = 100000\n",
    "پیدا کردن خط فیت با\n",
    "</h3>"
   ]
  },
  {
   "cell_type": "code",
   "execution_count": 15,
   "metadata": {},
   "outputs": [
    {
     "name": "stdout",
     "output_type": "stream",
     "text": [
      "iter: 0 , cost: 0.022120887974026275\n",
      "iter: 1000 , cost: 0.009682720385537791\n",
      "iter: 2000 , cost: 0.008279661023596596\n",
      "iter: 3000 , cost: 0.007117119922314493\n",
      "iter: 4000 , cost: 0.006153866442931881\n",
      "iter: 5000 , cost: 0.005355737873955334\n",
      "iter: 6000 , cost: 0.004694427817722942\n",
      "iter: 7000 , cost: 0.004146482276774724\n",
      "iter: 8000 , cost: 0.0036924678352651184\n",
      "iter: 9000 , cost: 0.0033162824341711173\n",
      "iter: 10000 , cost: 0.003004584296275504\n",
      "iter: 11000 , cost: 0.002746318747200361\n",
      "iter: 12000 , cost: 0.0025323261507434144\n",
      "iter: 13000 , cost: 0.0023550170535665935\n",
      "iter: 14000 , cost: 0.002208103017930863\n",
      "iter: 15000 , cost: 0.0020863735962010025\n",
      "iter: 16000 , cost: 0.0019855115373067435\n",
      "iter: 17000 , cost: 0.0019019396712794245\n",
      "iter: 18000 , cost: 0.0018326940414771454\n",
      "iter: 19000 , cost: 0.0017753187850105042\n",
      "iter: 20000 , cost: 0.0017277790332021477\n",
      "iter: 21000 , cost: 0.0016883887430112115\n",
      "iter: 22000 , cost: 0.001655750899894554\n",
      "iter: 23000 , cost: 0.0016287079713417604\n",
      "iter: 24000 , cost: 0.001606300853870866\n",
      "iter: 25000 , cost: 0.0015877348575005193\n",
      "iter: 26000 , cost: 0.0015723515213051668\n",
      "iter: 27000 , cost: 0.0015596052604647192\n",
      "iter: 28000 , cost: 0.0015490440165739543\n",
      "iter: 29000 , cost: 0.0015402932249562015\n",
      "iter: 30000 , cost: 0.0015330425303666903\n",
      "iter: 31000 , cost: 0.0015270347799451482\n",
      "iter: 32000 , cost: 0.0015220569030421887\n",
      "iter: 33000 , cost: 0.0015179323544637117\n",
      "iter: 34000 , cost: 0.001514514853125722\n",
      "iter: 35000 , cost: 0.001511683194054927\n",
      "iter: 36000 , cost: 0.0015093369497377537\n",
      "iter: 37000 , cost: 0.0015073929083619204\n",
      "iter: 38000 , cost: 0.0015057821226294676\n",
      "iter: 39000 , cost: 0.001504447464474487\n",
      "iter: 40000 , cost: 0.0015033415989612997\n",
      "iter: 41000 , cost: 0.0015024253055054104\n",
      "iter: 42000 , cost: 0.0015016660868777444\n",
      "iter: 43000 , cost: 0.0015010370166591478\n",
      "iter: 44000 , cost: 0.0015005157842690239\n",
      "iter: 45000 , cost: 0.0015000839036991224\n",
      "iter: 46000 , cost: 0.0014997260578894758\n",
      "iter: 47000 , cost: 0.0014994295554941253\n",
      "iter: 48000 , cost: 0.0014991838807703224\n",
      "iter: 49000 , cost: 0.001498980320627598\n",
      "iter: 50000 , cost: 0.0014988116556096244\n",
      "iter: 51000 , cost: 0.0014986719038492487\n",
      "iter: 52000 , cost: 0.0014985561089158207\n",
      "iter: 53000 , cost: 0.0014984601640306054\n",
      "iter: 54000 , cost: 0.0014983806664159306\n",
      "iter: 55000 , cost: 0.0014983147966124005\n",
      "iter: 56000 , cost: 0.001498260218484052\n",
      "iter: 57000 , cost: 0.0014982149963650466\n",
      "iter: 58000 , cost: 0.0014981775264094224\n",
      "iter: 59000 , cost: 0.0014981464797091484\n",
      "iter: 60000 , cost: 0.0014981207551631264\n",
      "iter: 61000 , cost: 0.0014980994404255798\n",
      "iter: 62000 , cost: 0.0014980817795488318\n",
      "iter: 63000 , cost: 0.001498067146172896\n",
      "iter: 64000 , cost: 0.0014980550213110136\n",
      "iter: 65000 , cost: 0.0014980449749432913\n",
      "iter: 66000 , cost: 0.0014980366507656327\n",
      "iter: 67000 , cost: 0.0014980297535530655\n",
      "iter: 68000 , cost: 0.0014980240386893106\n",
      "iter: 69000 , cost: 0.0014980193034912265\n",
      "iter: 70000 , cost: 0.001498015380020456\n",
      "iter: 71000 , cost: 0.0014980121291273331\n",
      "iter: 72000 , cost: 0.001498009435515806\n",
      "iter: 73000 , cost: 0.0014980072036543492\n",
      "iter: 74000 , cost: 0.001498005354387849\n",
      "iter: 75000 , cost: 0.0014980038221302893\n",
      "iter: 76000 , cost: 0.0014980025525386824\n",
      "iter: 77000 , cost: 0.0014980015005857388\n",
      "iter: 78000 , cost: 0.0014980006289629362\n",
      "iter: 79000 , cost: 0.0014979999067573327\n",
      "iter: 80000 , cost: 0.0014979993083552125\n",
      "iter: 81000 , cost: 0.0014979988125336681\n",
      "iter: 82000 , cost: 0.00149799840170791\n",
      "iter: 83000 , cost: 0.0014979980613076104\n",
      "iter: 84000 , cost: 0.0014979977792601428\n",
      "iter: 85000 , cost: 0.0014979975455624228\n",
      "iter: 86000 , cost: 0.0014979973519261367\n",
      "iter: 87000 , cost: 0.0014979971914837861\n",
      "iter: 88000 , cost: 0.0014979970585451297\n",
      "iter: 89000 , cost: 0.0014979969483953698\n",
      "iter: 90000 , cost: 0.0014979968571279382\n",
      "iter: 91000 , cost: 0.0014979967815059495\n",
      "iter: 92000 , cost: 0.0014979967188473958\n",
      "iter: 93000 , cost: 0.0014979966669300313\n",
      "iter: 94000 , cost: 0.0014979966239125567\n",
      "iter: 95000 , cost: 0.0014979965882693169\n",
      "iter: 96000 , cost: 0.0014979965587361887\n",
      "iter: 97000 , cost: 0.0014979965342657527\n",
      "iter: 98000 , cost: 0.0014979965139901396\n",
      "iter: 99000 , cost: 0.0014979964971902568\n"
     ]
    }
   ],
   "source": [
    "w,b = 0,0\n",
    "alpha = 0.001\n",
    "iter = 100000\n",
    "x = weatherSummery[\"MaxTemp\"]\n",
    "t = normalize(weatherSummery[\"MinTemp\"])\n",
    "w,b = find_line(x,t,w,b,alpha,iter)"
   ]
  },
  {
   "cell_type": "code",
   "execution_count": 16,
   "metadata": {},
   "outputs": [
    {
     "data": {
      "image/png": "[encoded data removed]",
      "text/plain": [
       "<Figure size 640x480 with 1 Axes>"
      ]
     },
     "metadata": {},
     "output_type": "display_data"
    }
   ],
   "source": [
    "plt.scatter(x,t)\n",
    "y = np.dot(w,x) + b\n",
    "plt.plot(x,y,'r')\n",
    "plt.show()"
   ]
  },
  {
   "cell_type": "markdown",
   "metadata": {},
   "source": [
    "<h3>خب دیدیم که با 10 برابر کردن تعداد اجرا باعث شد تاثیر داده های پرت کمتر شود</h3>"
   ]
  },
  {
   "cell_type": "markdown",
   "metadata": {},
   "source": [
    "<h1>\n",
    "محاسبه میزان خطا</h1>"
   ]
  },
  {
   "cell_type": "code",
   "execution_count": 17,
   "metadata": {},
   "outputs": [
    {
     "data": {
      "text/plain": [
       "np.float64(0.04275241226533693)"
      ]
     },
     "execution_count": 17,
     "metadata": {},
     "output_type": "execute_result"
    }
   ],
   "source": [
    "def MAE(y,t):\n",
    "    return np.mean(np.abs(y-t))\n",
    "\n",
    "MAE(t,y)"
   ]
  },
  {
   "cell_type": "markdown",
   "metadata": {},
   "source": [
    "<h3>\n",
    "بدست آوردن رگراسیون خطی با استفاده از\n",
    "sklearn.linear_model\n",
    " </h3>"
   ]
  },
  {
   "cell_type": "code",
   "execution_count": 18,
   "metadata": {},
   "outputs": [],
   "source": [
    "from sklearn.linear_model import LinearRegression"
   ]
  },
  {
   "cell_type": "code",
   "execution_count": 19,
   "metadata": {},
   "outputs": [],
   "source": [
    "model = LinearRegression()\n",
    "x_data = weatherSummery[[\"MaxTemp\"]]\n",
    "t_data = weatherSummery[[\"MinTemp\"]]\n",
    "\n",
    "model.fit(x_data,t_data)\n",
    "\n",
    "y_pred = (model.coef_ * x_data) + model.intercept_"
   ]
  },
  {
   "cell_type": "code",
   "execution_count": 20,
   "metadata": {},
   "outputs": [
    {
     "data": {
      "image/png": "[encoded data removed]",
      "text/plain": [
       "<Figure size 640x480 with 1 Axes>"
      ]
     },
     "metadata": {},
     "output_type": "display_data"
    }
   ],
   "source": [
    "plt.scatter(x_data,t_data)\n",
    "plt.plot(x_data,y_pred,'r')\n",
    "plt.show()"
   ]
  },
  {
   "cell_type": "markdown",
   "metadata": {},
   "source": [
    "<h3>میبینیم که زمانی که با توابع دست نویس دقت را افزایش دادیم به این خروجی رسیدیم و خودش در اینجا پارامتر ها را به صورت  خودکار قرار داده و برعکس خط اولی که بدست آوردیم داده های پرت تاثیر زیادی بر روی خط نگذاشته اند </h3>"
   ]
  },
  {
   "cell_type": "code",
   "execution_count": 21,
   "metadata": {},
   "outputs": [
    {
     "data": {
      "text/plain": [
       "np.float64(3.111401536611774)"
      ]
     },
     "execution_count": 21,
     "metadata": {},
     "output_type": "execute_result"
    }
   ],
   "source": [
    "y = y_pred.to_numpy()\n",
    "t = t_data.to_numpy()\n",
    "MAE(t,y)"
   ]
  },
  {
   "cell_type": "markdown",
   "metadata": {},
   "source": [
    "<h4>دلیل تفاوت میزان خطا تفاوت نوع نرمال سازی است</h4>"
   ]
  }
 ],
 "metadata": {
  "kernelspec": {
   "display_name": "Python 3",
   "language": "python",
   "name": "python3"
  },
  "language_info": {
   "codemirror_mode": {
    "name": "ipython",
    "version": 3
   },
   "file_extension": ".py",
   "mimetype": "text/x-python",
   "name": "python",
   "nbconvert_exporter": "python",
   "pygments_lexer": "ipython3",
   "version": "3.12.4"
  }
 },
 "nbformat": 4,
 "nbformat_minor": 2
}
